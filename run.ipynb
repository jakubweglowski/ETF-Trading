{
 "cells": [
  {
   "cell_type": "markdown",
   "metadata": {},
   "source": [
    "# Importy"
   ]
  },
  {
   "cell_type": "code",
   "execution_count": 1,
   "metadata": {},
   "outputs": [],
   "source": [
    "import pandas as pd\n",
    "import matplotlib.pyplot as plt\n",
    "from datetime import datetime as dt, timedelta as tmd\n",
    "from IPython.display import display\n",
    "from importlib import reload\n",
    "\n",
    "import APICommunication.config as cfg\n",
    "\n",
    "import Data.DataLoader\n",
    "reload(Data.DataLoader)\n",
    "from Data.DataLoader import *\n",
    "\n",
    "import Data.DataCleaner\n",
    "reload(Data.DataCleaner)\n",
    "from Data.DataCleaner import *\n",
    "\n",
    "import MarkowitzAnalysis.ReturnAnalysis\n",
    "reload(MarkowitzAnalysis.ReturnAnalysis)\n",
    "from MarkowitzAnalysis.ReturnAnalysis import *\n",
    "\n",
    "import PositionAnalysis.PortfolioPerformance\n",
    "reload(PositionAnalysis.PortfolioPerformance)\n",
    "from PositionAnalysis.PortfolioPerformance import *\n",
    "\n",
    "import PositionAnalysis.PortfolioLoader\n",
    "reload(PositionAnalysis.PortfolioLoader)\n",
    "from PositionAnalysis.PortfolioLoader import *\n",
    "\n",
    "import Plotting.Plotter\n",
    "reload(Plotting.Plotter)\n",
    "from Plotting.Plotter import *\n",
    "\n",
    "import Plotting.EfficientFrontierPlot\n",
    "reload(Plotting.EfficientFrontierPlot)\n",
    "from Plotting.EfficientFrontierPlot import *\n",
    "\n",
    "import Backtest.Backtest\n",
    "reload(Backtest.Backtest)\n",
    "from Backtest.Backtest import *\n",
    "\n",
    "from warnings import filterwarnings\n",
    "filterwarnings('ignore')"
   ]
  },
  {
   "cell_type": "markdown",
   "metadata": {},
   "source": [
    "# Działanie właściwego programu"
   ]
  },
  {
   "cell_type": "markdown",
   "metadata": {},
   "source": [
    "### Scenariusz 0. Aktualizacja danych do obecnej daty"
   ]
  },
  {
   "cell_type": "code",
   "execution_count": null,
   "metadata": {},
   "outputs": [],
   "source": [
    "start = '2025-01-25'\n",
    "\n",
    "print(f\"[INFO] Rozpoczynam pracę programu: {now(False)}\")\n",
    "\n",
    "dataloader = DataLoader(cfg.user_id, cfg.pwd)\n",
    "data = dataloader.loadInstrumentsData(start)"
   ]
  },
  {
   "cell_type": "markdown",
   "metadata": {},
   "source": [
    "### Scenariusz 1. Analiza obecnej pozycji przez łączenie z API"
   ]
  },
  {
   "cell_type": "code",
   "execution_count": null,
   "metadata": {},
   "outputs": [],
   "source": [
    "print(f\"[INFO] Rozpoczynam pracę programu: {now(False)}\")\n",
    "\n",
    "pl = PortfolioLoader('Pozycja od 10.12.2024 do 10.03.2025')\n",
    "\n",
    "dataloader = DataLoader(cfg.user_id, cfg.pwd)\n",
    "info = dataloader.loadInstrumentsInfo()\n",
    "\n",
    "currentTrades = dataloader.getCurrentTrades(info, weights = pl.portfolio)\n",
    "display(currentTrades.getSummary())\n",
    "print(f\"Zwrot z portfela: {currentTrades.getPCTReturn()}%\")\n",
    "print(f\"Zysk z inwestycji: {currentTrades.getPLNReturn()} PLN\")"
   ]
  },
  {
   "cell_type": "markdown",
   "metadata": {},
   "source": [
    "### Scenariusz 2. Wybór nowej pozycji"
   ]
  },
  {
   "cell_type": "code",
   "execution_count": null,
   "metadata": {},
   "outputs": [],
   "source": [
    "start, end = '2024-01-01', '2025-01-09'\n",
    "\n",
    "print(f\"[INFO] Rozpoczynam pracę programu: {now(False)}\")\n",
    "\n",
    "dataloader = DataLoader(cfg.user_id, cfg.pwd)\n",
    "data = dataloader.loadInstrumentsData(start, end)\n",
    "info = dataloader.loadInstrumentsInfo()\n",
    "\n",
    "datacleaner = DataCleaner(data, info)\n",
    "\n",
    "freq = '8M'\n",
    "returnRates = datacleaner.getReturnRates(freq)\n",
    "mo = MarkowitzOptimization(returnRates, freq)\n",
    "mo.getOptimalWeights(model='max_sharpe', risk_method='oas')\n",
    "portfolio = mo.getPortfolio()\n",
    "portfolio.getSummary()"
   ]
  },
  {
   "cell_type": "code",
   "execution_count": null,
   "metadata": {},
   "outputs": [],
   "source": [
    "portfolio.calculateRealPortfolio(1200)"
   ]
  },
  {
   "cell_type": "markdown",
   "metadata": {},
   "source": [
    "### Scenariusz 3. Analiza konkretnego portfela"
   ]
  },
  {
   "cell_type": "markdown",
   "metadata": {},
   "source": [
    "#### Wariant 1. Podajemy dane ręcznie"
   ]
  },
  {
   "cell_type": "code",
   "execution_count": null,
   "metadata": {},
   "outputs": [],
   "source": [
    "print(f\"[INFO] Rozpoczynam pracę programu: {now(False)}\")\n",
    "\n",
    "portfolio = {'P500.DE': 32.56, \n",
    "             '4GLD.DE': 17.47, \n",
    "             'FLXI.DE': 45.06, \n",
    "             'ESD.FR': 4.91}\n",
    "freq = '3M'\n",
    "\n",
    "start, end = '2023-07-01', '2024-12-10'\n",
    "\n",
    "dataloader = DataLoader(cfg.user_id, cfg.pwd)\n",
    "data = dataloader.loadInstrumentsData(start, end)\n",
    "info = dataloader.loadInstrumentsInfo()\n",
    "\n",
    "datacleaner = DataCleaner(data, info, load_only=list(portfolio.keys()))\n",
    "data = datacleaner.getBidPrice()\n",
    "returnRates = datacleaner.getReturnRates(freq)\n",
    "pp = PortfolioPerformance(portfolio, returnRates, freq, 'empirical', 'max_utility',data=data)\n",
    "pp.getSummary()"
   ]
  },
  {
   "cell_type": "code",
   "execution_count": 14,
   "metadata": {},
   "outputs": [],
   "source": [
    "SaveDict(pp.getStatDict(), 'Pozycja od 10.12.2024 do 10.03.2025', 'Positions')"
   ]
  },
  {
   "cell_type": "markdown",
   "metadata": {},
   "source": [
    "#### Wariant 2. Wygrywamy automatycznie zapisany portfel"
   ]
  },
  {
   "cell_type": "code",
   "execution_count": null,
   "metadata": {},
   "outputs": [],
   "source": [
    "print(f\"[INFO] Rozpoczynam pracę programu: {now(False)}\")\n",
    "\n",
    "start, end = '2024-01-01', '2025-01-13'\n",
    "pl = PortfolioLoader('Pozycja od 10.12.2024 do 10.03.2025')\n",
    "pl.getSummary()\n",
    "\n",
    "dataloader = DataLoader(cfg.user_id, cfg.pwd)\n",
    "data = dataloader.loadInstrumentsData(start, end)\n",
    "info = dataloader.loadInstrumentsInfo()\n",
    "\n",
    "datacleaner = DataCleaner(data, info, load_only=pl.symbols)\n",
    "data = datacleaner.getBidPrice()\n",
    "returnRates = datacleaner.getReturnRates(pl.freq)\n",
    "\n",
    "# pp = pl.getPortfolio(returnRates, data)"
   ]
  },
  {
   "cell_type": "markdown",
   "metadata": {},
   "source": [
    "### Scenariusz 4. Wykresy dla konkretnego portfela"
   ]
  },
  {
   "cell_type": "code",
   "execution_count": null,
   "metadata": {},
   "outputs": [],
   "source": [
    "print(f\"[INFO] Rozpoczynam pracę programu: {now(False)}\")\n",
    "\n",
    "pl = PortfolioLoader('Pozycja od 10.12.2024 do 10.03.2025')\n",
    "freq = '6M'\n",
    "print()\n",
    "pl.getSummary()\n",
    "print()\n",
    "start, end = '2023-01-01', '2025-01-13'\n",
    "dataloader = DataLoader(cfg.user_id, cfg.pwd)\n",
    "data = dataloader.loadInstrumentsData(start, end)\n",
    "info = dataloader.loadInstrumentsInfo()\n",
    "\n",
    "datacleaner = DataCleaner(data, info, load_only=pl.symbols)\n",
    "data = datacleaner.getBidPrice()\n",
    "returnRates = datacleaner.getReturnRates(freq)\n",
    "\n",
    "plotter = Plotter(pl.portfolio,\n",
    "                  data,\n",
    "                  returnRates,\n",
    "                  freq,\n",
    "                  pl.model,\n",
    "                  pl.risk_method,\n",
    "                  compare='ema_2w')\n",
    "plotter.plot(show_instruments=True)"
   ]
  },
  {
   "cell_type": "markdown",
   "metadata": {},
   "source": [
    "### Scenariusz 5. Wykres \"Efficient Frontier\""
   ]
  },
  {
   "cell_type": "code",
   "execution_count": null,
   "metadata": {},
   "outputs": [],
   "source": [
    "start, end = '2020-01-01', '2025-01-13'\n",
    "\n",
    "print(f\"[INFO] Rozpoczynam pracę programu: {now(False)}\")\n",
    "\n",
    "dataloader = DataLoader(cfg.user_id, cfg.pwd)\n",
    "data = dataloader.loadInstrumentsData(start, end)\n",
    "info = dataloader.loadInstrumentsInfo()\n",
    "\n",
    "datacleaner = DataCleaner(data, info)"
   ]
  },
  {
   "cell_type": "code",
   "execution_count": null,
   "metadata": {},
   "outputs": [],
   "source": [
    "freq = '1Y'\n",
    "returnRates = datacleaner.getReturnRates(freq)\n",
    "ef = EfficientFrontierPlot(returnRates, freq, Npoints=80)"
   ]
  },
  {
   "cell_type": "code",
   "execution_count": null,
   "metadata": {},
   "outputs": [],
   "source": [
    "ef.plot(Nrandom=5000)"
   ]
  },
  {
   "cell_type": "markdown",
   "metadata": {},
   "source": [
    "### Scenariusz 6: Backtest modelu"
   ]
  },
  {
   "cell_type": "code",
   "execution_count": null,
   "metadata": {},
   "outputs": [],
   "source": [
    "# Input:\n",
    "start, end = '2023-07-01', '2025-02-03'\n",
    "freq = '3M'\n",
    "\n",
    "\n",
    "bt = Backtest(start, end, freq, len_train=3)\n",
    "backtest_summary = bt.getSummary()\n",
    "backtest_summary"
   ]
  },
  {
   "cell_type": "markdown",
   "metadata": {},
   "source": [
    "# Brudnopis"
   ]
  },
  {
   "cell_type": "markdown",
   "metadata": {},
   "source": [
    "### Backtest - pierwsze kroki"
   ]
  },
  {
   "cell_type": "code",
   "execution_count": null,
   "metadata": {},
   "outputs": [],
   "source": [
    "# Input:\n",
    "start, end = '2020-01-01', '2025-01-30'\n",
    "freq = '3M'\n",
    "\n",
    "dates = [x.strftime(\"%Y-%m-%d\") for x in pd.date_range(start, end, freq=freq)]\n",
    "len_train = 4 # to powinno być jakąś funkcją 'freq'\n",
    "len_train += 1 # stopy zwrotu nie obliczają się dla pierwszego okresu treningowego\n",
    "\n",
    "######################################################################\n",
    "train = []\n",
    "test = []\n",
    "for i, x in enumerate(dates):\n",
    "    \n",
    "    if i+len_train+1 >= len(dates):\n",
    "        break\n",
    "    \n",
    "    start_train = dates[i]\n",
    "    end_train = dates[i+len_train]\n",
    "    end_test = dates[i+len_train+1]\n",
    "    \n",
    "    train.append((start_train, end_train))\n",
    "    test.append((end_train, end_test))\n",
    "\n",
    "assert len(train) == len(test)\n",
    "\n",
    "######################################################################\n",
    "summary_dict = {}\n",
    "\n",
    "for i in range(len(train)):\n",
    "    \n",
    "    # Okres treningowy\n",
    "    start_train, end_train = train[i]\n",
    "    \n",
    "    # Okres testowy\n",
    "    start_test, end_test = test[i]\n",
    "    \n",
    "    # Ładujemy całe dane na raz\n",
    "    dataloader = DataLoader(cfg.user_id, cfg.pwd)\n",
    "    \n",
    "    print(f\"[INFO] Okres {i+1} z {len(train)}. Pobieramy dane od {start_train} do {end_test}: {now(False)}\")\n",
    "    data = dataloader.loadInstrumentsData(start_train, end_test)\n",
    "    info = dataloader.loadInstrumentsInfo()\n",
    "    \n",
    "    datacleaner = DataCleaner(data, info, verbose=False)\n",
    "    returnRates = datacleaner.getReturnRates(freq)\n",
    "    \n",
    "    # Trening\n",
    "    print(f\"\\t[INFO] Trening w okresie od {start_train} do {end_train}\")\n",
    "\n",
    "    train_indices = returnRates.index.isin(pd.date_range(start_train, end_train))\n",
    "    mo = MarkowitzOptimization(returnRates.loc[train_indices, :], freq, verbose=False)\n",
    "    mo.getOptimalWeights(model='max_sharpe', risk_method='oas')\n",
    "    pp = mo.getPortfolio()\n",
    "    expected_return = pp.portfoliomean\n",
    "    conf_int = getQuantiles(pp.portfolioReturn, q=0.05)\n",
    "    sharpe_ratio = pp.sharpe_ratio\n",
    "    \n",
    "    print(f\"\\tOczekiwany zwrot treningowy: {expected_return:.2%}\")\n",
    "    print(f\"\\tSharpe Ratio: {sharpe_ratio:.2f}\")\n",
    "    print()\n",
    "    portfolio = pp.portfolio\n",
    "    \n",
    "    # Test\n",
    "    print(f\"\\t[INFO] Test w okresie od {start_test} do {end_test}\")\n",
    "\n",
    "    test_indices = returnRates.index.isin(pd.date_range(start_train, end_train))\n",
    "    pp = PortfolioPerformance(portfolio, returnRates.loc[test_indices, :], freq, 'empirical', 'max_utility')\n",
    "    true_return = pp.portfolioReturn.iloc[-1]\n",
    "    \n",
    "    # if sharpe_ratio >= 1.0:\n",
    "    #     if true_return < conf_int[0]: summary_dict['below'] += 1\n",
    "    #     elif (true_return >= conf_int[0]) and (true_return < expected_return): summary_dict['lower_half'] += 1\n",
    "    #     elif (true_return >= expected_return) and (true_return < conf_int[1]): summary_dict['upper_half'] += 1\n",
    "    #     elif true_return > conf_int[1]: summary_dict['above'] += 1\n",
    "    #     else: print('Jakiś idiotyczny błąd xd')\n",
    "    \n",
    "    print(f\"\\tRzeczywisty zwrot w okresie testowym: {true_return:.2%}\")\n",
    "    print(f\"\\tTreningowy przedział ufności: [{conf_int[0]:.2%}, {conf_int[1]:.2%}]\")\n",
    "    print()\n",
    "    \n",
    "    summary_dict[i+1] = {'expected_return': expected_return,\n",
    "                       'true_return': true_return,\n",
    "                       'conf_int_low': conf_int[0],\n",
    "                       'conf_int_high': conf_int[1],\n",
    "                       'sharpe_ratio': sharpe_ratio}\n",
    "\n",
    "summary = pd.DataFrame(summary_dict).T\n",
    "display(summary)"
   ]
  },
  {
   "cell_type": "code",
   "execution_count": null,
   "metadata": {},
   "outputs": [],
   "source": [
    "summary['in_conf_int'] = summary['true_return'].between(summary['conf_int_low'], summary['conf_int_high'])\n",
    "summary.insert(loc=2, column='error', value=(summary['true_return'] - summary['expected_return']))\n",
    "summary"
   ]
  },
  {
   "cell_type": "markdown",
   "metadata": {},
   "source": [
    "### Backtest - drugie kroki"
   ]
  },
  {
   "cell_type": "code",
   "execution_count": 3,
   "metadata": {},
   "outputs": [
    {
     "name": "stdout",
     "output_type": "stream",
     "text": [
      "[INFO] Okres 1 z 1. Pobieramy dane od 2023-07-31 do 2024-10-31: 2025-02-04 07:55:36\n",
      "\t[INFO] Trening w okresie od 2023-07-31 do 2024-07-31\n",
      "\tOczekiwany zwrot treningowy: 7.09%\n",
      "\tSharpe Ratio: 1.39\n",
      "\n",
      "\t[INFO] Test w okresie od 2024-07-31 do 2024-10-31\n",
      "\tRzeczywisty zwrot w okresie testowym: 4.38%\n",
      "\tTreningowy przedział ufności: [0.50%, 12.98%]\n",
      "\n"
     ]
    },
    {
     "data": {
      "text/html": [
       "<div>\n",
       "<style scoped>\n",
       "    .dataframe tbody tr th:only-of-type {\n",
       "        vertical-align: middle;\n",
       "    }\n",
       "\n",
       "    .dataframe tbody tr th {\n",
       "        vertical-align: top;\n",
       "    }\n",
       "\n",
       "    .dataframe thead th {\n",
       "        text-align: right;\n",
       "    }\n",
       "</style>\n",
       "<table border=\"1\" class=\"dataframe\">\n",
       "  <thead>\n",
       "    <tr style=\"text-align: right;\">\n",
       "      <th></th>\n",
       "      <th>ExpectedReturn</th>\n",
       "      <th>TrueReturn</th>\n",
       "      <th>Error</th>\n",
       "      <th>ConfIntLow</th>\n",
       "      <th>ConfIntHigh</th>\n",
       "      <th>SharpeRatio</th>\n",
       "      <th>InConfInt</th>\n",
       "    </tr>\n",
       "  </thead>\n",
       "  <tbody>\n",
       "    <tr>\n",
       "      <th>1</th>\n",
       "      <td>0.070934</td>\n",
       "      <td>0.043789</td>\n",
       "      <td>-0.027145</td>\n",
       "      <td>0.004952</td>\n",
       "      <td>0.129751</td>\n",
       "      <td>1.392278</td>\n",
       "      <td>True</td>\n",
       "    </tr>\n",
       "  </tbody>\n",
       "</table>\n",
       "</div>"
      ],
      "text/plain": [
       "   ExpectedReturn  TrueReturn     Error  ConfIntLow  ConfIntHigh  SharpeRatio  \\\n",
       "1        0.070934    0.043789 -0.027145    0.004952     0.129751     1.392278   \n",
       "\n",
       "   InConfInt  \n",
       "1       True  "
      ]
     },
     "execution_count": 3,
     "metadata": {},
     "output_type": "execute_result"
    }
   ],
   "source": [
    "# Input:\n",
    "start, end = '2023-07-01', '2025-02-03'\n",
    "freq = '3M'\n",
    "\n",
    "\n",
    "bt = Backtest(start, end, freq, len_train=3)\n",
    "backtest_summary = bt.getSummary()\n",
    "backtest_summary"
   ]
  }
 ],
 "metadata": {
  "kernelspec": {
   "display_name": "Python 3",
   "language": "python",
   "name": "python3"
  },
  "language_info": {
   "codemirror_mode": {
    "name": "ipython",
    "version": 3
   },
   "file_extension": ".py",
   "mimetype": "text/x-python",
   "name": "python",
   "nbconvert_exporter": "python",
   "pygments_lexer": "ipython3",
   "version": "3.11.0"
  }
 },
 "nbformat": 4,
 "nbformat_minor": 2
}
